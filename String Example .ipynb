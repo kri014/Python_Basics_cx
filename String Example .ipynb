{
 "cells": [
  {
   "cell_type": "code",
   "execution_count": 32,
   "id": "8eeecdb1",
   "metadata": {},
   "outputs": [
    {
     "name": "stdout",
     "output_type": "stream",
     "text": [
      "Enter the stringkrishs\n",
      "k\n",
      "r\n",
      "i\n",
      "s\n",
      "h\n",
      "s\n"
     ]
    }
   ],
   "source": [
    "# Find the length of a given string without using the len() function\n",
    "\n",
    "s= input(\"Enter the string\")\n",
    "counter=0\n",
    "for i in s:\n",
    "    print(i)"
   ]
  },
  {
   "cell_type": "code",
   "execution_count": 5,
   "id": "e885234a",
   "metadata": {},
   "outputs": [
    {
     "name": "stdout",
     "output_type": "stream",
     "text": [
      "Enter the string : hello world\n",
      "The length of string:  11\n"
     ]
    }
   ],
   "source": [
    "s= input(\"Enter the string : \")\n",
    "counter=0\n",
    "for i in s:\n",
    "    counter += 1\n",
    "    \n",
    "print(\"The length of string: \",counter)"
   ]
  },
  {
   "cell_type": "code",
   "execution_count": 6,
   "id": "93b3ea4c",
   "metadata": {},
   "outputs": [],
   "source": [
    "# Extract username from a given email. \n",
    "# Eg if the email is nitish24singh@gmail.com \n",
    "# then the username should be nitish24singh"
   ]
  },
  {
   "cell_type": "code",
   "execution_count": 7,
   "id": "ac55ac8d",
   "metadata": {},
   "outputs": [
    {
     "name": "stdout",
     "output_type": "stream",
     "text": [
      "Enter the emailkrishna@gmail.com\n",
      "krishna\n"
     ]
    }
   ],
   "source": [
    "s=input(\"Enter the email\")\n",
    "pos=s.index(\"@\")\n",
    "print(s[0:pos])"
   ]
  },
  {
   "cell_type": "code",
   "execution_count": 13,
   "id": "5fd812dc",
   "metadata": {},
   "outputs": [],
   "source": [
    "# Count the frequency of a particular character in a provided string. \n",
    "# Eg 'hello how are you' is the string, the frequency of h in this string is 2.\n",
    "\n",
    "\n"
   ]
  },
  {
   "cell_type": "code",
   "execution_count": 14,
   "id": "33c32761",
   "metadata": {},
   "outputs": [
    {
     "name": "stdout",
     "output_type": "stream",
     "text": [
      "Enter the stringhi\n",
      "What would you like to search fori\n",
      "frequency: 1\n"
     ]
    }
   ],
   "source": [
    "s=input(\"Enter the string :\")\n",
    "term=input(\"What would you like to search for: \")\n",
    "\n",
    "counter=0\n",
    "for i in s:\n",
    "    if i==term:\n",
    "        counter+=1\n",
    "print(\"frequency:\",counter)"
   ]
  },
  {
   "cell_type": "code",
   "execution_count": 9,
   "id": "960d6277",
   "metadata": {},
   "outputs": [],
   "source": [
    "# Write a program which can remove a particular character from a string.\n",
    "\n"
   ]
  },
  {
   "cell_type": "code",
   "execution_count": 15,
   "id": "e5fd7d53",
   "metadata": {},
   "outputs": [
    {
     "name": "stdout",
     "output_type": "stream",
     "text": [
      "Enter the string hrllo world\n",
      "What would like to remover\n",
      "hllo wold\n"
     ]
    }
   ],
   "source": [
    "s=input(\"Enter the string \")\n",
    "term=input(\"What would like to remove\")\n",
    "\n",
    "result=\"\"\n",
    "\n",
    "for i in s:\n",
    "    if i!=term:\n",
    "        result=result+i\n",
    "print(result)\n"
   ]
  },
  {
   "cell_type": "code",
   "execution_count": 10,
   "id": "9aca533e",
   "metadata": {},
   "outputs": [],
   "source": [
    "# Write a program that can check whether a given string is palindrome or not.\n",
    "# abba\n",
    "# malayalam\n"
   ]
  },
  {
   "cell_type": "code",
   "execution_count": 16,
   "id": "e8057d76",
   "metadata": {},
   "outputs": [
    {
     "name": "stdout",
     "output_type": "stream",
     "text": [
      "Enter the stringabba\n",
      "palindrome\n"
     ]
    }
   ],
   "source": [
    "s=input(\"Enter the string\")\n",
    "flag=True\n",
    "for i in range(0,len(s)//2):\n",
    "    if s[i]!=s[len(s)-i-1]:\n",
    "        flag=False\n",
    "        print(\"Not a palindrome\")\n",
    "        break\n",
    "        \n",
    "if flag==True:\n",
    "    print(\"palindrome\")\n",
    "    "
   ]
  },
  {
   "cell_type": "code",
   "execution_count": 19,
   "id": "1eaef5bf",
   "metadata": {},
   "outputs": [
    {
     "name": "stdout",
     "output_type": "stream",
     "text": [
      "Enter the stringhello world\n",
      "['hello', 'world']\n"
     ]
    }
   ],
   "source": [
    "# Write a program to count the number of words in a string without split()\n",
    "s=input(\"Enter the string\")\n",
    "l=[]\n",
    "temp=\"\"\n",
    "for i in s:\n",
    "    if i!=\" \":\n",
    "        temp=temp+i\n",
    "    else:\n",
    "        l.append(temp)\n",
    "        temp=\"\"\n",
    "        \n",
    "l.append(temp)\n",
    "print(l)"
   ]
  },
  {
   "cell_type": "code",
   "execution_count": 20,
   "id": "77a3c245",
   "metadata": {},
   "outputs": [
    {
     "data": {
      "text/plain": [
       "'Hi How Are You'"
      ]
     },
     "execution_count": 20,
     "metadata": {},
     "output_type": "execute_result"
    }
   ],
   "source": [
    "# Write a python program to convert a string to title case without using the title()\n",
    "\"hi how are you\".title()"
   ]
  },
  {
   "cell_type": "code",
   "execution_count": 21,
   "id": "34536ce2",
   "metadata": {},
   "outputs": [
    {
     "name": "stdout",
     "output_type": "stream",
     "text": [
      "Enter the stringhi hoe r u\n",
      "hi\n",
      "hoe\n",
      "r\n",
      "u\n"
     ]
    }
   ],
   "source": [
    "s=input(\"Enter the string\")\n",
    "\n",
    "for i in s.split():\n",
    "    print(i)"
   ]
  },
  {
   "cell_type": "code",
   "execution_count": 25,
   "id": "41017769",
   "metadata": {},
   "outputs": [
    {
     "name": "stdout",
     "output_type": "stream",
     "text": [
      "Enter the stringhi how are you\n",
      "['Hi', 'How', 'Are', 'You']\n",
      "Hi How Are You\n"
     ]
    }
   ],
   "source": [
    "s=input(\"Enter the string\")\n",
    "l=[]\n",
    "for i in s.split():\n",
    "    l.append(i[0].upper()+i[1:].lower())\n",
    "\n",
    "print(l)    \n",
    "print(\" \".join(l))"
   ]
  },
  {
   "cell_type": "code",
   "execution_count": 26,
   "id": "4abea211",
   "metadata": {},
   "outputs": [
    {
     "data": {
      "text/plain": [
       "'4'"
      ]
     },
     "execution_count": 26,
     "metadata": {},
     "output_type": "execute_result"
    }
   ],
   "source": [
    "# Write a program that can convert an integer to string.\n",
    "str(4)"
   ]
  },
  {
   "cell_type": "code",
   "execution_count": 31,
   "id": "0fdcbf52",
   "metadata": {},
   "outputs": [
    {
     "name": "stdout",
     "output_type": "stream",
     "text": [
      "Enter the number: 908\n",
      "908\n",
      "<class 'str'>\n"
     ]
    }
   ],
   "source": [
    "number=int(input(\"Enter the number: \"))\n",
    "\n",
    "digits=\"0123456789\"\n",
    "result=\"\"\n",
    "while number !=0:\n",
    "    result=digits[number%10]+result\n",
    "    number=number//10\n",
    "    \n",
    "print(result)\n",
    "print(type(result))\n",
    "    "
   ]
  },
  {
   "cell_type": "code",
   "execution_count": null,
   "id": "43993b24",
   "metadata": {},
   "outputs": [],
   "source": []
  },
  {
   "cell_type": "code",
   "execution_count": null,
   "id": "dc4d6f48",
   "metadata": {},
   "outputs": [],
   "source": []
  }
 ],
 "metadata": {
  "kernelspec": {
   "display_name": "Python 3",
   "language": "python",
   "name": "python3"
  },
  "language_info": {
   "codemirror_mode": {
    "name": "ipython",
    "version": 3
   },
   "file_extension": ".py",
   "mimetype": "text/x-python",
   "name": "python",
   "nbconvert_exporter": "python",
   "pygments_lexer": "ipython3",
   "version": "3.8.8"
  }
 },
 "nbformat": 4,
 "nbformat_minor": 5
}
