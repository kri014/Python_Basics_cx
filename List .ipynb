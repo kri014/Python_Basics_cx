{
 "cells": [
  {
   "cell_type": "markdown",
   "id": "11e2940c",
   "metadata": {},
   "source": [
    "### List\n",
    "List is a datatype where we can store multiple items under 1 name. More technically, list acts like **dynamic arrays** which means we can add more item on the fly."
   ]
  },
  {
   "cell_type": "code",
   "execution_count": 1,
   "id": "a8483496",
   "metadata": {},
   "outputs": [],
   "source": [
    "L=[20,\"jess\",35.45,[30,50,60]]"
   ]
  },
  {
   "cell_type": "markdown",
   "id": "35e90c1a",
   "metadata": {},
   "source": [
    "Array vs List \n",
    "- Fixed Vs Dynamic size\n",
    "- Convenience-> Hetrogenous \n",
    "- Speed of Execution-> python list is slow  \n",
    "- Memory -> more memory consume "
   ]
  },
  {
   "cell_type": "code",
   "execution_count": 2,
   "id": "dfe0321c",
   "metadata": {},
   "outputs": [],
   "source": [
    "# array are homogenous but list is hetrogenous "
   ]
  },
  {
   "cell_type": "code",
   "execution_count": 3,
   "id": "c23a7619",
   "metadata": {},
   "outputs": [
    {
     "name": "stdout",
     "output_type": "stream",
     "text": [
      "2269269142400\n",
      "140729382610736\n",
      "140729382610768\n",
      "140729382610800\n",
      "140729382610736\n",
      "140729382610768\n",
      "140729382610800\n"
     ]
    }
   ],
   "source": [
    "L = [1,2,3]\n",
    "print(id(L))\n",
    "print(id(L[0]))\n",
    "print(id(L[1]))\n",
    "print(id(L[2]))\n",
    "print(id(1))\n",
    "print(id(2))\n",
    "print(id(3))"
   ]
  },
  {
   "cell_type": "markdown",
   "id": "c07affde",
   "metadata": {},
   "source": [
    "In list the data stored in the list is its reference so its also called referencial array. \n",
    "But in array data are stored in binary format. "
   ]
  },
  {
   "cell_type": "markdown",
   "id": "fd74e2fa",
   "metadata": {},
   "source": [
    "#### Characterstics of a list \n",
    "- Ordered\n",
    "- Changeble/ Mutable\n",
    "- Hetrogenous\n",
    "- can have duplicates \n",
    "- are dynamics\n",
    "- cab be nested \n",
    "- items can be accessed\n",
    "- can contains any kind of objects in python"
   ]
  },
  {
   "cell_type": "code",
   "execution_count": 4,
   "id": "c6e9564b",
   "metadata": {},
   "outputs": [
    {
     "data": {
      "text/plain": [
       "False"
      ]
     },
     "execution_count": 4,
     "metadata": {},
     "output_type": "execute_result"
    }
   ],
   "source": [
    "# ordered -> the list are ordered wether the values are same. they are not equal . \n",
    "L =[1,2,3]\n",
    "L1=[3,2,1]\n",
    "L==L1"
   ]
  },
  {
   "cell_type": "markdown",
   "id": "6ab68a1c",
   "metadata": {},
   "source": [
    "#### Creating the list "
   ]
  },
  {
   "cell_type": "code",
   "execution_count": 5,
   "id": "a7ea848c",
   "metadata": {},
   "outputs": [
    {
     "name": "stdout",
     "output_type": "stream",
     "text": [
      "[]\n"
     ]
    }
   ],
   "source": [
    "# empty list\n",
    "print([])"
   ]
  },
  {
   "cell_type": "code",
   "execution_count": 6,
   "id": "14ac4ed0",
   "metadata": {},
   "outputs": [
    {
     "name": "stdout",
     "output_type": "stream",
     "text": [
      "[1, 2, 3, 4, 5]\n"
     ]
    }
   ],
   "source": [
    "# 1D list and homogenous\n",
    "print([1,2,3,4,5])"
   ]
  },
  {
   "cell_type": "code",
   "execution_count": 7,
   "id": "a2a99e0a",
   "metadata": {},
   "outputs": [
    {
     "name": "stdout",
     "output_type": "stream",
     "text": [
      "[1, 2, 3, [4, 5, 6]]\n"
     ]
    }
   ],
   "source": [
    "# 2D list \n",
    "print([1,2,3,[4,5,6]]) # hetrogenous list one is int and another is list "
   ]
  },
  {
   "cell_type": "code",
   "execution_count": 9,
   "id": "aae95fe4",
   "metadata": {},
   "outputs": [
    {
     "name": "stdout",
     "output_type": "stream",
     "text": [
      "[[[[1, 2], [3, 4]], [[5, 6], [7, 8]]]]\n"
     ]
    }
   ],
   "source": [
    "# 3D list\n",
    "print([[[[1,2],[3,4]],[[5,6],[7,8]]]])"
   ]
  },
  {
   "cell_type": "code",
   "execution_count": 10,
   "id": "614cb2ed",
   "metadata": {},
   "outputs": [
    {
     "name": "stdout",
     "output_type": "stream",
     "text": [
      "[1, True, 5.6, (5+6j), 'hello']\n"
     ]
    }
   ],
   "source": [
    "# hetrogenous \n",
    "print([1,True,5.6,5+6j,\"hello\"])"
   ]
  },
  {
   "cell_type": "code",
   "execution_count": 11,
   "id": "45e80714",
   "metadata": {},
   "outputs": [
    {
     "name": "stdout",
     "output_type": "stream",
     "text": [
      "['h', 'e', 'l', 'l', 'o']\n"
     ]
    }
   ],
   "source": [
    "# using type conversion \n",
    "print(list(\"hello\"))"
   ]
  },
  {
   "cell_type": "markdown",
   "id": "b019f6f5",
   "metadata": {},
   "source": [
    "#### Accessing items from list"
   ]
  },
  {
   "cell_type": "code",
   "execution_count": 15,
   "id": "783c9590",
   "metadata": {},
   "outputs": [
    {
     "name": "stdout",
     "output_type": "stream",
     "text": [
      "1\n",
      "[4, 5]\n",
      "4\n"
     ]
    }
   ],
   "source": [
    "# Indexing \n",
    "L = [1,2,3,[4,5]]\n",
    "# positive \n",
    "print(L[0])\n",
    "print(L[3])\n",
    "# negative indexing\n",
    "print(L[-1][-2])\n",
    "# Slicing "
   ]
  },
  {
   "cell_type": "code",
   "execution_count": 18,
   "id": "8e957a53",
   "metadata": {},
   "outputs": [],
   "source": [
    "L = [[[1,2],[3,4]],[[5,6],[7,8]]]"
   ]
  },
  {
   "cell_type": "code",
   "execution_count": 19,
   "id": "1660cd3d",
   "metadata": {},
   "outputs": [
    {
     "data": {
      "text/plain": [
       "[[1, 2], [3, 4]]"
      ]
     },
     "execution_count": 19,
     "metadata": {},
     "output_type": "execute_result"
    }
   ],
   "source": [
    "L[0]"
   ]
  },
  {
   "cell_type": "code",
   "execution_count": 21,
   "id": "4cfe28d9",
   "metadata": {},
   "outputs": [
    {
     "data": {
      "text/plain": [
       "6"
      ]
     },
     "execution_count": 21,
     "metadata": {},
     "output_type": "execute_result"
    }
   ],
   "source": [
    "L[1][0][1]"
   ]
  },
  {
   "cell_type": "code",
   "execution_count": 22,
   "id": "840c969e",
   "metadata": {},
   "outputs": [
    {
     "data": {
      "text/plain": [
       "2"
      ]
     },
     "execution_count": 22,
     "metadata": {},
     "output_type": "execute_result"
    }
   ],
   "source": [
    "L[0][0][1]"
   ]
  },
  {
   "cell_type": "code",
   "execution_count": 23,
   "id": "8036b2d1",
   "metadata": {},
   "outputs": [],
   "source": [
    "# Slicing "
   ]
  },
  {
   "cell_type": "code",
   "execution_count": 24,
   "id": "6cb142d2",
   "metadata": {},
   "outputs": [
    {
     "name": "stdout",
     "output_type": "stream",
     "text": [
      "[1, 2, 3]\n"
     ]
    }
   ],
   "source": [
    "L=[1,2,3,4,5,6]\n",
    "print(L[0:3])"
   ]
  },
  {
   "cell_type": "code",
   "execution_count": 25,
   "id": "b9c0f9e7",
   "metadata": {},
   "outputs": [
    {
     "name": "stdout",
     "output_type": "stream",
     "text": [
      "[1, 3, 5]\n"
     ]
    }
   ],
   "source": [
    "print(L[0::2])"
   ]
  },
  {
   "cell_type": "code",
   "execution_count": 26,
   "id": "02984653",
   "metadata": {},
   "outputs": [
    {
     "name": "stdout",
     "output_type": "stream",
     "text": [
      "[6, 5, 4, 3, 2, 1]\n"
     ]
    }
   ],
   "source": [
    "print(L[::-1])"
   ]
  },
  {
   "cell_type": "markdown",
   "id": "2cf1b9e7",
   "metadata": {},
   "source": [
    "#### Adding items in list "
   ]
  },
  {
   "cell_type": "code",
   "execution_count": 28,
   "id": "67a7dcff",
   "metadata": {},
   "outputs": [
    {
     "name": "stdout",
     "output_type": "stream",
     "text": [
      "[1, 2, 3, 4, 5, True]\n"
     ]
    }
   ],
   "source": [
    "# append -> to add one item \n",
    "L = [1,2,3,4,5]\n",
    "L.append(True)\n",
    "print(L)"
   ]
  },
  {
   "cell_type": "code",
   "execution_count": 30,
   "id": "7eb3c76a",
   "metadata": {},
   "outputs": [
    {
     "name": "stdout",
     "output_type": "stream",
     "text": [
      "[1, 2, 3, 4, 5, 6, 7, 8]\n"
     ]
    }
   ],
   "source": [
    "# extend -> to add multiple items \n",
    "L = [1,2,3,4,5]\n",
    "L.extend([6,7,8])\n",
    "print(L)"
   ]
  },
  {
   "cell_type": "code",
   "execution_count": 31,
   "id": "b4d0ef34",
   "metadata": {},
   "outputs": [
    {
     "name": "stdout",
     "output_type": "stream",
     "text": [
      "[1, 2, 3, 4, 5, [6, 7, 8]]\n"
     ]
    }
   ],
   "source": [
    "L = [1,2,3,4,5]\n",
    "L.append([6,7,8]) # append add a list with the list \n",
    "print(L)"
   ]
  },
  {
   "cell_type": "code",
   "execution_count": 32,
   "id": "9c57f6cb",
   "metadata": {},
   "outputs": [
    {
     "name": "stdout",
     "output_type": "stream",
     "text": [
      "[1, 2, 3, 4, 5, 'D', 'e', 'l', 'h', 'i']\n"
     ]
    }
   ],
   "source": [
    "L = [1,2,3,4,5]\n",
    "L.extend(\"Delhi\")\n",
    "print(L)"
   ]
  },
  {
   "cell_type": "code",
   "execution_count": 33,
   "id": "312177ca",
   "metadata": {},
   "outputs": [],
   "source": [
    "# insert -> add the item at certain location "
   ]
  },
  {
   "cell_type": "code",
   "execution_count": 34,
   "id": "ee930901",
   "metadata": {},
   "outputs": [
    {
     "name": "stdout",
     "output_type": "stream",
     "text": [
      "[1, 100, 2, 3, 4, 5]\n"
     ]
    }
   ],
   "source": [
    "L = [1,2,3,4,5]\n",
    "L.insert(1,100) # addind item in at index 1\n",
    "print(L)"
   ]
  },
  {
   "cell_type": "markdown",
   "id": "b0af3b94",
   "metadata": {},
   "source": [
    "#### Editing items in a list "
   ]
  },
  {
   "cell_type": "code",
   "execution_count": 36,
   "id": "d104ab44",
   "metadata": {},
   "outputs": [
    {
     "name": "stdout",
     "output_type": "stream",
     "text": [
      "[1, 200, 300, 400, 500]\n"
     ]
    }
   ],
   "source": [
    "L = [1,2,3,4,5]\n",
    "#editing with indexing\n",
    "L[-1]=500\n",
    "# editing with slicing \n",
    "L[1:4]=[200,300,400]\n",
    "print(L)"
   ]
  },
  {
   "cell_type": "markdown",
   "id": "4c8477e3",
   "metadata": {},
   "source": [
    "#### Deleting items from a list "
   ]
  },
  {
   "cell_type": "code",
   "execution_count": 37,
   "id": "d8bac3a2",
   "metadata": {},
   "outputs": [
    {
     "name": "stdout",
     "output_type": "stream",
     "text": [
      "[1, 2, 3, 4, 5]\n"
     ]
    },
    {
     "ename": "NameError",
     "evalue": "name 'L' is not defined",
     "output_type": "error",
     "traceback": [
      "\u001b[1;31m---------------------------------------------------------------------------\u001b[0m",
      "\u001b[1;31mNameError\u001b[0m                                 Traceback (most recent call last)",
      "\u001b[1;32m<ipython-input-37-b1be14fba35a>\u001b[0m in \u001b[0;36m<module>\u001b[1;34m\u001b[0m\n\u001b[0;32m      3\u001b[0m \u001b[0mprint\u001b[0m\u001b[1;33m(\u001b[0m\u001b[0mL\u001b[0m\u001b[1;33m)\u001b[0m\u001b[1;33m\u001b[0m\u001b[1;33m\u001b[0m\u001b[0m\n\u001b[0;32m      4\u001b[0m \u001b[1;32mdel\u001b[0m \u001b[0mL\u001b[0m\u001b[1;33m\u001b[0m\u001b[1;33m\u001b[0m\u001b[0m\n\u001b[1;32m----> 5\u001b[1;33m \u001b[0mprint\u001b[0m\u001b[1;33m(\u001b[0m\u001b[0mL\u001b[0m\u001b[1;33m)\u001b[0m\u001b[1;33m\u001b[0m\u001b[1;33m\u001b[0m\u001b[0m\n\u001b[0m",
      "\u001b[1;31mNameError\u001b[0m: name 'L' is not defined"
     ]
    }
   ],
   "source": [
    "# del \n",
    "L =[1,2,3,4,5]\n",
    "print(L)\n",
    "del L # deleted the list \n",
    "print(L)"
   ]
  },
  {
   "cell_type": "code",
   "execution_count": 39,
   "id": "b508be2d",
   "metadata": {},
   "outputs": [
    {
     "name": "stdout",
     "output_type": "stream",
     "text": [
      "[1, 2, 3, 4, 5]\n",
      "[1, 4]\n"
     ]
    }
   ],
   "source": [
    "L =[1,2,3,4,5]\n",
    "print(L)\n",
    "# indexing\n",
    "del L[-1] # deleted the list at index -1\n",
    "# slicing \n",
    "del L[1:3]\n",
    "print(L)"
   ]
  },
  {
   "cell_type": "code",
   "execution_count": 41,
   "id": "3e4a2584",
   "metadata": {},
   "outputs": [
    {
     "name": "stdout",
     "output_type": "stream",
     "text": [
      "[1, 2, 3, 4]\n"
     ]
    }
   ],
   "source": [
    "# remove \n",
    "L = [1,2,3,4,5]\n",
    "L.remove(5)\n",
    "print(L)"
   ]
  },
  {
   "cell_type": "code",
   "execution_count": 44,
   "id": "853d6000",
   "metadata": {},
   "outputs": [
    {
     "name": "stdout",
     "output_type": "stream",
     "text": [
      "[1, 3, 4]\n"
     ]
    }
   ],
   "source": [
    "# pop\n",
    "L = [1,2,3,4,5]\n",
    "L.pop() # deleted from last index default index is -1 \n",
    "L.pop(1)\n",
    "print(L)"
   ]
  },
  {
   "cell_type": "code",
   "execution_count": 45,
   "id": "f9c68767",
   "metadata": {},
   "outputs": [
    {
     "name": "stdout",
     "output_type": "stream",
     "text": [
      "[]\n"
     ]
    }
   ],
   "source": [
    "# clear \n",
    "L = [1,2,3,4,5]\n",
    "L.clear()\n",
    "print(L)"
   ]
  },
  {
   "cell_type": "markdown",
   "id": "11b99caf",
   "metadata": {},
   "source": [
    "#### Operations On list \n",
    "- Arithmatic \n",
    "- Membership \n",
    "- loop"
   ]
  },
  {
   "cell_type": "code",
   "execution_count": 46,
   "id": "de10e77d",
   "metadata": {},
   "outputs": [
    {
     "name": "stdout",
     "output_type": "stream",
     "text": [
      "[1, 2, 3, 4, 5, 6, 7, 8]\n"
     ]
    }
   ],
   "source": [
    "# Airthmatic (+,*) \n",
    "L1 = [1,2,3,4]\n",
    "L2 = [5,6,7,8]\n",
    "# concatination \n",
    "print(L1+L2)"
   ]
  },
  {
   "cell_type": "code",
   "execution_count": 47,
   "id": "ca7fca3b",
   "metadata": {},
   "outputs": [
    {
     "name": "stdout",
     "output_type": "stream",
     "text": [
      "[1, 2, 3, 4, 1, 2, 3, 4, 1, 2, 3, 4]\n"
     ]
    }
   ],
   "source": [
    "print(L1*3)"
   ]
  },
  {
   "cell_type": "code",
   "execution_count": 51,
   "id": "3774d063",
   "metadata": {},
   "outputs": [
    {
     "name": "stdout",
     "output_type": "stream",
     "text": [
      "True\n",
      "False\n",
      "False\n",
      "True\n"
     ]
    }
   ],
   "source": [
    "# membership operator \n",
    "L1 =[1,2,3,4,5]\n",
    "L2 = [1,2,3,4,[5,6]]\n",
    "print(5 in L1)\n",
    "print(5 not in L1)\n",
    "print(5 in L2)\n",
    "print([5,6] in L2)"
   ]
  },
  {
   "cell_type": "code",
   "execution_count": 52,
   "id": "df13e369",
   "metadata": {},
   "outputs": [
    {
     "name": "stdout",
     "output_type": "stream",
     "text": [
      "1\n",
      "2\n",
      "3\n",
      "4\n",
      "5\n"
     ]
    }
   ],
   "source": [
    "# loops \n",
    "L1 = [1,2,3,4,5]\n",
    "for i in L1:\n",
    "    print(i)"
   ]
  },
  {
   "cell_type": "code",
   "execution_count": 53,
   "id": "f40fdd45",
   "metadata": {},
   "outputs": [
    {
     "name": "stdout",
     "output_type": "stream",
     "text": [
      "1\n",
      "2\n",
      "3\n",
      "4\n",
      "[5, 6]\n"
     ]
    }
   ],
   "source": [
    "L1 = [1,2,3,4,5]\n",
    "for i in L2:\n",
    "    print(i)"
   ]
  },
  {
   "cell_type": "code",
   "execution_count": 54,
   "id": "bbff7801",
   "metadata": {},
   "outputs": [
    {
     "name": "stdout",
     "output_type": "stream",
     "text": [
      "[[1, 2], [3, 4]]\n",
      "[[5, 6], [7, 8]]\n"
     ]
    }
   ],
   "source": [
    "L3 = [[[1,2],[3,4]],[[5,6],[7,8]]]\n",
    "for i in L3:\n",
    "    print(i)"
   ]
  },
  {
   "cell_type": "markdown",
   "id": "9fdac499",
   "metadata": {},
   "source": [
    "#### List function "
   ]
  },
  {
   "cell_type": "code",
   "execution_count": 59,
   "id": "a7bc7b6c",
   "metadata": {},
   "outputs": [
    {
     "name": "stdout",
     "output_type": "stream",
     "text": [
      "5\n",
      "0\n",
      "7\n",
      "[0, 1, 2, 5, 7]\n",
      "[7, 5, 2, 1, 0]\n"
     ]
    }
   ],
   "source": [
    "# len/min/max/sorted\n",
    "L = [2,1,5,7,0]\n",
    "print(len(L))\n",
    "print(min(L))\n",
    "print(max(L))\n",
    "print(sorted(L))\n",
    "print(sorted(L,reverse=True))"
   ]
  },
  {
   "cell_type": "code",
   "execution_count": 60,
   "id": "a7397d24",
   "metadata": {},
   "outputs": [
    {
     "data": {
      "text/plain": [
       "3"
      ]
     },
     "execution_count": 60,
     "metadata": {},
     "output_type": "execute_result"
    }
   ],
   "source": [
    "# count\n",
    "L = [1,2,3,1,1,3,4,6,5]\n",
    "L.count(1)"
   ]
  },
  {
   "cell_type": "code",
   "execution_count": 62,
   "id": "bf6c7c43",
   "metadata": {},
   "outputs": [
    {
     "data": {
      "text/plain": [
       "0"
      ]
     },
     "execution_count": 62,
     "metadata": {},
     "output_type": "execute_result"
    }
   ],
   "source": [
    "#index\n",
    "L = [1,2,1,3,4,1,5]\n",
    "L.index(1)"
   ]
  },
  {
   "cell_type": "code",
   "execution_count": 64,
   "id": "11c8dac3",
   "metadata": {},
   "outputs": [
    {
     "name": "stdout",
     "output_type": "stream",
     "text": [
      "[0, 7, 5, 1, 2]\n"
     ]
    }
   ],
   "source": [
    "# reverse\n",
    "L = [2,1,5,7,0]\n",
    "L.reverse()\n",
    "# permamently reverse \n",
    "print(L)"
   ]
  },
  {
   "cell_type": "code",
   "execution_count": 65,
   "id": "ac32401a",
   "metadata": {},
   "outputs": [
    {
     "name": "stdout",
     "output_type": "stream",
     "text": [
      "[2, 1, 5, 7, 0]\n",
      "[0, 1, 2, 5, 7]\n",
      "[2, 1, 5, 7, 0]\n",
      "[0, 1, 2, 5, 7]\n"
     ]
    }
   ],
   "source": [
    "# sort (vs sorted)\n",
    "L = [2,1,5,7,0]\n",
    "print(L)\n",
    "print(sorted(L)) # temporary sorted by craeting another object \n",
    "print(L)\n",
    "L.sort() # permanent sorting in the list \n",
    "print(L)"
   ]
  },
  {
   "cell_type": "code",
   "execution_count": 68,
   "id": "f64b6570",
   "metadata": {},
   "outputs": [
    {
     "name": "stdout",
     "output_type": "stream",
     "text": [
      "[2, 1, 5, 7, 0]\n",
      "2269268568064\n",
      "[2, 1, 5, 7, 0]\n",
      "2269270383424\n"
     ]
    }
   ],
   "source": [
    "# copy \n",
    "L = [2,1,5,7,0]\n",
    "print(L)\n",
    "print(id(L))\n",
    "L1=L.copy()\n",
    "print(L1)\n",
    "print(id(L1))\n",
    "# both are having the different address"
   ]
  },
  {
   "cell_type": "markdown",
   "id": "e16052e5",
   "metadata": {},
   "source": [
    "#### List Comprehension \n",
    "List comprehension provides a concise way of creating lists. \n"
   ]
  },
  {
   "cell_type": "markdown",
   "id": "c33479dd",
   "metadata": {},
   "source": [
    "newlist = [expression for item in iterable if condition == True]"
   ]
  },
  {
   "cell_type": "markdown",
   "id": "80a6c017",
   "metadata": {},
   "source": [
    "Advantage of list comprehension \n",
    "- More time-effecient and space-effecient than loops \n",
    "- Required Fewer lines of code\n",
    "- Transforms iterative statemnets into a formula "
   ]
  },
  {
   "cell_type": "code",
   "execution_count": 70,
   "id": "48931449",
   "metadata": {},
   "outputs": [
    {
     "name": "stdout",
     "output_type": "stream",
     "text": [
      "[1, 2, 3, 4, 5, 6, 7, 8, 9, 10]\n"
     ]
    }
   ],
   "source": [
    "# add 1 to 10 number to a list \n",
    "L = []\n",
    "for i in range(1,11):\n",
    "    L.append(i)\n",
    "    \n",
    "print(L)"
   ]
  },
  {
   "cell_type": "code",
   "execution_count": 71,
   "id": "dbc754cf",
   "metadata": {},
   "outputs": [],
   "source": [
    "L = [i for i in range(1,11)]"
   ]
  },
  {
   "cell_type": "code",
   "execution_count": 72,
   "id": "0862e14e",
   "metadata": {},
   "outputs": [
    {
     "data": {
      "text/plain": [
       "[1, 2, 3, 4, 5, 6, 7, 8, 9, 10]"
      ]
     },
     "execution_count": 72,
     "metadata": {},
     "output_type": "execute_result"
    }
   ],
   "source": [
    "L"
   ]
  },
  {
   "cell_type": "code",
   "execution_count": 75,
   "id": "d2526a00",
   "metadata": {},
   "outputs": [
    {
     "name": "stdout",
     "output_type": "stream",
     "text": [
      "[]\n",
      "[-6, -9, -12]\n"
     ]
    }
   ],
   "source": [
    "# Scalar multiplication on a vector \n",
    "v= [2,3,4]\n",
    "s = -3\n",
    "# [-6,-9,-12]\n",
    "print(v*s)\n",
    "\n",
    "x=[]\n",
    "for i in v:\n",
    "    x.append(i*s)\n",
    "print(x)"
   ]
  },
  {
   "cell_type": "code",
   "execution_count": 76,
   "id": "9407302b",
   "metadata": {},
   "outputs": [
    {
     "data": {
      "text/plain": [
       "[-6, -9, -12]"
      ]
     },
     "execution_count": 76,
     "metadata": {},
     "output_type": "execute_result"
    }
   ],
   "source": [
    "[s*i for i in v]"
   ]
  },
  {
   "cell_type": "code",
   "execution_count": 77,
   "id": "83e17c03",
   "metadata": {},
   "outputs": [
    {
     "data": {
      "text/plain": [
       "[1, 4, 9, 16, 25, 36]"
      ]
     },
     "execution_count": 77,
     "metadata": {},
     "output_type": "execute_result"
    }
   ],
   "source": [
    "# add squares \n",
    "L = [1,2,3,4,5,6]\n",
    "\n",
    "[i**2 for i in L]"
   ]
  },
  {
   "cell_type": "code",
   "execution_count": 78,
   "id": "1ec5dfa9",
   "metadata": {},
   "outputs": [
    {
     "data": {
      "text/plain": [
       "[5, 10, 15, 20, 25, 30, 35, 40, 45, 50]"
      ]
     },
     "execution_count": 78,
     "metadata": {},
     "output_type": "execute_result"
    }
   ],
   "source": [
    "# print all the divisible by 5 in range of 1 to 50 \n",
    "[i for i in range(1,51) if i%5==0]"
   ]
  },
  {
   "cell_type": "code",
   "execution_count": 80,
   "id": "e1befdb9",
   "metadata": {},
   "outputs": [
    {
     "data": {
      "text/plain": [
       "['python', 'php']"
      ]
     },
     "execution_count": 80,
     "metadata": {},
     "output_type": "execute_result"
    }
   ],
   "source": [
    "# find language which start with letter p \n",
    "languages = [\"java\",\"python\",\"php\",\"c\",\"javascript\"]\n",
    "[language for language in languages if language.startswith(\"p\")]"
   ]
  },
  {
   "cell_type": "code",
   "execution_count": 81,
   "id": "ce847f15",
   "metadata": {},
   "outputs": [
    {
     "data": {
      "text/plain": [
       "['apple']"
      ]
     },
     "execution_count": 81,
     "metadata": {},
     "output_type": "execute_result"
    }
   ],
   "source": [
    "# nested if with list comprehension \n",
    "basket = [\"apple\",\"guava\",\"cherry\",\"banana\"]\n",
    "my_fruits= [\"apple\",\"kiwi\",\"graphs\",\"banana\"]\n",
    "\n",
    "# add new list from my_fruits and items if the fruits exits in baskets and alos start with \"a\"\n",
    "[fruit for fruit in my_fruits if fruit in basket if fruit.startswith(\"a\")]"
   ]
  },
  {
   "cell_type": "code",
   "execution_count": 82,
   "id": "caf7daa2",
   "metadata": {},
   "outputs": [
    {
     "data": {
      "text/plain": [
       "[[1, 2, 3], [2, 4, 6], [3, 6, 9]]"
      ]
     },
     "execution_count": 82,
     "metadata": {},
     "output_type": "execute_result"
    }
   ],
   "source": [
    "# print a (3,3) matrix using list comprehension\n",
    "[[i*j for i in range(1,4)] for j in range(1,4)]"
   ]
  },
  {
   "cell_type": "code",
   "execution_count": 83,
   "id": "99db4078",
   "metadata": {},
   "outputs": [
    {
     "data": {
      "text/plain": [
       "[5, 6, 7, 8, 10, 12, 14, 16, 15, 18, 21, 24, 20, 24, 28, 32]"
      ]
     },
     "execution_count": 83,
     "metadata": {},
     "output_type": "execute_result"
    }
   ],
   "source": [
    "# cartesion products -> list comprehension on a 2 lists together\n",
    "L1= [1,2,3,4]\n",
    "L2= [5,6,7,8]\n",
    "\n",
    "[i*j for i in L1 for j in L2]"
   ]
  },
  {
   "cell_type": "markdown",
   "id": "23d3ff06",
   "metadata": {},
   "source": [
    "#### 2 ways to traverse the list \n",
    "- itemwise\n",
    "- indexwise"
   ]
  },
  {
   "cell_type": "code",
   "execution_count": 84,
   "id": "59db193f",
   "metadata": {},
   "outputs": [
    {
     "name": "stdout",
     "output_type": "stream",
     "text": [
      "1\n",
      "2\n",
      "3\n",
      "4\n"
     ]
    }
   ],
   "source": [
    "# itemwise\n",
    "L =[1,2,3,4]\n",
    "for i in L:\n",
    "    print(i)"
   ]
  },
  {
   "cell_type": "code",
   "execution_count": 85,
   "id": "53822598",
   "metadata": {},
   "outputs": [
    {
     "name": "stdout",
     "output_type": "stream",
     "text": [
      "0\n",
      "1\n",
      "2\n",
      "3\n"
     ]
    }
   ],
   "source": [
    "# indexwise\n",
    "L = [1,2,3,4]\n",
    "for i in range(0,len(L)):\n",
    "    print(i) # it gives the index "
   ]
  },
  {
   "cell_type": "code",
   "execution_count": 86,
   "id": "ccc9efa8",
   "metadata": {},
   "outputs": [
    {
     "name": "stdout",
     "output_type": "stream",
     "text": [
      "1\n",
      "2\n",
      "3\n",
      "4\n"
     ]
    }
   ],
   "source": [
    "L = [1,2,3,4]\n",
    "for i in range(0,len(L)):\n",
    "    print(L[i])"
   ]
  },
  {
   "cell_type": "markdown",
   "id": "23e7ef95",
   "metadata": {},
   "source": [
    "#### Zip"
   ]
  },
  {
   "cell_type": "code",
   "execution_count": null,
   "id": "1834141b",
   "metadata": {},
   "outputs": [],
   "source": []
  },
  {
   "cell_type": "code",
   "execution_count": 87,
   "id": "47a76fbd",
   "metadata": {},
   "outputs": [],
   "source": [
    "# list can store any object \n",
    "L = [1,2,print,type,input]"
   ]
  },
  {
   "cell_type": "code",
   "execution_count": 88,
   "id": "2f057452",
   "metadata": {},
   "outputs": [
    {
     "data": {
      "text/plain": [
       "[1,\n",
       " 2,\n",
       " <function print>,\n",
       " type,\n",
       " <bound method Kernel.raw_input of <ipykernel.ipkernel.IPythonKernel object at 0x000002105AF236D0>>]"
      ]
     },
     "execution_count": 88,
     "metadata": {},
     "output_type": "execute_result"
    }
   ],
   "source": [
    "L"
   ]
  },
  {
   "cell_type": "markdown",
   "id": "5d4b3861",
   "metadata": {},
   "source": [
    "#### Disadvantage of python list \n",
    "- slow\n",
    "- Risky usage\n",
    "- eat up more memory"
   ]
  },
  {
   "cell_type": "code",
   "execution_count": 89,
   "id": "2c42340f",
   "metadata": {},
   "outputs": [
    {
     "name": "stdout",
     "output_type": "stream",
     "text": [
      "[1, 2, 3]\n",
      "[1, 2, 3]\n",
      "[1, 2, 3, 4]\n",
      "[1, 2, 3, 4]\n"
     ]
    }
   ],
   "source": [
    "a= [1,2,3]\n",
    "b=a\n",
    "print(a)\n",
    "print(b)\n",
    "\n",
    "a.append(4)\n",
    "print(a)\n",
    "print(b)\n",
    "# list are mutable "
   ]
  },
  {
   "cell_type": "code",
   "execution_count": null,
   "id": "47957881",
   "metadata": {},
   "outputs": [],
   "source": []
  }
 ],
 "metadata": {
  "kernelspec": {
   "display_name": "Python 3",
   "language": "python",
   "name": "python3"
  },
  "language_info": {
   "codemirror_mode": {
    "name": "ipython",
    "version": 3
   },
   "file_extension": ".py",
   "mimetype": "text/x-python",
   "name": "python",
   "nbconvert_exporter": "python",
   "pygments_lexer": "ipython3",
   "version": "3.8.8"
  }
 },
 "nbformat": 4,
 "nbformat_minor": 5
}
