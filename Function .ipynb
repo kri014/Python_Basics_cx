{
 "cells": [
  {
   "cell_type": "markdown",
   "id": "38a9139c",
   "metadata": {},
   "source": [
    "### Creating function (with docstring)"
   ]
  },
  {
   "cell_type": "code",
   "execution_count": 3,
   "id": "698906a6",
   "metadata": {},
   "outputs": [],
   "source": [
    "def is_even(num):\n",
    "    \"\"\"This function is a given number is odd or even \n",
    "    input - Any valid interger\n",
    "    output - Odd/even \n",
    "    created on- 18th Oct 2023\n",
    "    \"\"\"\n",
    "    if type(num)==int:\n",
    "        if num%2==0:\n",
    "            return \"even\"\n",
    "        else:\n",
    "            return \"odd\"\n",
    "    else:\n",
    "        print(\"Pagal hia kya\")"
   ]
  },
  {
   "cell_type": "code",
   "execution_count": 4,
   "id": "46673c8a",
   "metadata": {},
   "outputs": [
    {
     "name": "stdout",
     "output_type": "stream",
     "text": [
      "odd\n",
      "even\n",
      "odd\n",
      "even\n",
      "odd\n",
      "even\n",
      "odd\n",
      "even\n",
      "odd\n",
      "even\n"
     ]
    }
   ],
   "source": [
    "# function calling \n",
    "# function_name(input)\n",
    "for i in range(1,11):\n",
    "    x=is_even(i)\n",
    "    print(x)"
   ]
  },
  {
   "cell_type": "markdown",
   "id": "31a1eb7a",
   "metadata": {},
   "source": [
    "#### 2 Point of View"
   ]
  },
  {
   "cell_type": "code",
   "execution_count": 5,
   "id": "5919c87c",
   "metadata": {},
   "outputs": [
    {
     "name": "stdout",
     "output_type": "stream",
     "text": [
      "Pagal hia kya\n"
     ]
    }
   ],
   "source": [
    "is_even(\"krish\")"
   ]
  },
  {
   "cell_type": "markdown",
   "id": "e9f05331",
   "metadata": {},
   "source": [
    "when ever the function created the whole responsiblity is the creater of function to think all the possible ristriction of the function "
   ]
  },
  {
   "cell_type": "markdown",
   "id": "13df0c2d",
   "metadata": {},
   "source": [
    "#### Parameter Vs Arguments "
   ]
  },
  {
   "cell_type": "markdown",
   "id": "d708fd35",
   "metadata": {},
   "source": [
    "- Parameter is the variable we add during the creation of the function.\n",
    "- Arguments is the data provided when we call the function"
   ]
  },
  {
   "cell_type": "markdown",
   "id": "14a7c9dc",
   "metadata": {},
   "source": [
    "#### Types of Arguments \n",
    "- Default Arguments \n",
    "- Positional Arguments \n",
    "- Keywirdds Arguments "
   ]
  },
  {
   "cell_type": "code",
   "execution_count": 6,
   "id": "0ed91e8c",
   "metadata": {},
   "outputs": [],
   "source": [
    "# default Arguments \n",
    "def power(a=1,b=1):\n",
    "    return a**b\n"
   ]
  },
  {
   "cell_type": "code",
   "execution_count": 7,
   "id": "9ad0bf23",
   "metadata": {},
   "outputs": [
    {
     "data": {
      "text/plain": [
       "2"
      ]
     },
     "execution_count": 7,
     "metadata": {},
     "output_type": "execute_result"
    }
   ],
   "source": [
    "power(2)"
   ]
  },
  {
   "cell_type": "code",
   "execution_count": 8,
   "id": "a544a1be",
   "metadata": {},
   "outputs": [
    {
     "data": {
      "text/plain": [
       "1"
      ]
     },
     "execution_count": 8,
     "metadata": {},
     "output_type": "execute_result"
    }
   ],
   "source": [
    "power()"
   ]
  },
  {
   "cell_type": "code",
   "execution_count": 9,
   "id": "116c72b7",
   "metadata": {},
   "outputs": [],
   "source": [
    "# positional Arguments\n",
    "# It means the order of the data provided in the argumnets are preserved "
   ]
  },
  {
   "cell_type": "code",
   "execution_count": 10,
   "id": "f56bd12a",
   "metadata": {},
   "outputs": [
    {
     "data": {
      "text/plain": [
       "8"
      ]
     },
     "execution_count": 10,
     "metadata": {},
     "output_type": "execute_result"
    }
   ],
   "source": [
    "power(2,3)"
   ]
  },
  {
   "cell_type": "code",
   "execution_count": 12,
   "id": "8255de4f",
   "metadata": {},
   "outputs": [
    {
     "data": {
      "text/plain": [
       "81"
      ]
     },
     "execution_count": 12,
     "metadata": {},
     "output_type": "execute_result"
    }
   ],
   "source": [
    "# keyword arguments \n",
    "# we can also provide the key and value pair in the input and order is not required \n",
    "power(a=3,b=4)"
   ]
  },
  {
   "cell_type": "markdown",
   "id": "31645d23",
   "metadata": {},
   "source": [
    "#### *args and **kwargs\n",
    "***args** and ****kwargs** are special python keywords that are used to pass the varibale length of arguments to a function."
   ]
  },
  {
   "cell_type": "code",
   "execution_count": 18,
   "id": "41fa9681",
   "metadata": {},
   "outputs": [],
   "source": [
    "# *args\n",
    "# allows us to pass a varibale of number of non-keywords arguments to a function.\n",
    "def multiply(*args):\n",
    "    product=1\n",
    "    for i in args:\n",
    "            product = product*i\n",
    "    print(args)\n",
    "    return product"
   ]
  },
  {
   "cell_type": "code",
   "execution_count": 19,
   "id": "0448f4cc",
   "metadata": {},
   "outputs": [
    {
     "name": "stdout",
     "output_type": "stream",
     "text": [
      "(2, 3, 4, 5, 6)\n"
     ]
    },
    {
     "data": {
      "text/plain": [
       "720"
      ]
     },
     "execution_count": 19,
     "metadata": {},
     "output_type": "execute_result"
    }
   ],
   "source": [
    "multiply(2,3,4,5,6)"
   ]
  },
  {
   "cell_type": "markdown",
   "id": "dc6f65b7",
   "metadata": {},
   "source": [
    "##### fetching the documentation"
   ]
  },
  {
   "cell_type": "code",
   "execution_count": 21,
   "id": "bd96b885",
   "metadata": {},
   "outputs": [
    {
     "name": "stdout",
     "output_type": "stream",
     "text": [
      "This function is a given number is odd or even \n",
      "    input - Any valid interger\n",
      "    output - Odd/even \n",
      "    created on- 18th Oct 2023\n",
      "    \n"
     ]
    }
   ],
   "source": [
    "print(is_even.__doc__)"
   ]
  },
  {
   "cell_type": "code",
   "execution_count": 22,
   "id": "50eeb8b2",
   "metadata": {},
   "outputs": [
    {
     "name": "stdout",
     "output_type": "stream",
     "text": [
      "print(value, ..., sep=' ', end='\\n', file=sys.stdout, flush=False)\n",
      "\n",
      "Prints the values to a stream, or to sys.stdout by default.\n",
      "Optional keyword arguments:\n",
      "file:  a file-like object (stream); defaults to the current sys.stdout.\n",
      "sep:   string inserted between values, default a space.\n",
      "end:   string appended after the last value, default a newline.\n",
      "flush: whether to forcibly flush the stream.\n"
     ]
    }
   ],
   "source": [
    "print(print.__doc__)"
   ]
  },
  {
   "cell_type": "markdown",
   "id": "672a1f0a",
   "metadata": {},
   "source": [
    "#### **kwagrs"
   ]
  },
  {
   "cell_type": "code",
   "execution_count": 23,
   "id": "38f4197f",
   "metadata": {},
   "outputs": [],
   "source": [
    "# **kwargs allows us to pass any number of keywords arguments \n",
    "# keywords arguments menas that they contains a key-value pair, like a python dictionary\n",
    "def display(**kwargs):\n",
    "    for (key,value) in kwargs.items():\n",
    "        print(key,\"->\",value)"
   ]
  },
  {
   "cell_type": "code",
   "execution_count": 26,
   "id": "99b34548",
   "metadata": {},
   "outputs": [
    {
     "name": "stdout",
     "output_type": "stream",
     "text": [
      "india -> delhi\n",
      "srilanka -> colombo\n",
      "nepal -> kathmandu\n"
     ]
    }
   ],
   "source": [
    "display(india=\"delhi\",srilanka=\"colombo\",nepal=\"kathmandu\")"
   ]
  },
  {
   "cell_type": "markdown",
   "id": "b55239ae",
   "metadata": {},
   "source": [
    "points to remember while using ***args** and ****kwargs**\n",
    "- Order of the argumnts matter (normal->* *args->* **kwargs)"
   ]
  },
  {
   "cell_type": "markdown",
   "id": "14ff0054",
   "metadata": {},
   "source": [
    "#### Without return statement"
   ]
  },
  {
   "cell_type": "markdown",
   "id": "e1ae06f7",
   "metadata": {},
   "source": [
    "If a function without return statement it will give the None "
   ]
  },
  {
   "cell_type": "code",
   "execution_count": 30,
   "id": "28576272",
   "metadata": {},
   "outputs": [
    {
     "name": "stdout",
     "output_type": "stream",
     "text": [
      "None\n",
      "[1, 2, 3, 4, 5]\n"
     ]
    }
   ],
   "source": [
    "L =[1,2,3,4]\n",
    "print(L.append(5))\n",
    "# append function do not return any value so it shows None\n",
    "print(L)"
   ]
  },
  {
   "cell_type": "markdown",
   "id": "d6c4b43b",
   "metadata": {},
   "source": [
    "#### Variable Scope"
   ]
  },
  {
   "cell_type": "code",
   "execution_count": 31,
   "id": "e2fefd90",
   "metadata": {},
   "outputs": [
    {
     "name": "stdout",
     "output_type": "stream",
     "text": [
      "5\n",
      "6\n",
      "5\n"
     ]
    }
   ],
   "source": [
    "def g(y):\n",
    "    print(x)\n",
    "    print(x+1)\n",
    "    \n",
    "x=5\n",
    "g(x)\n",
    "print(x)"
   ]
  },
  {
   "cell_type": "markdown",
   "id": "9d407e85",
   "metadata": {},
   "source": [
    "Global and Local variable scope \n",
    "- variable of the program is called as the global varibale is has scope all over the program.\n",
    "- varible of the function is local varible which is only have scope within the function. If the varible under the function not presemt in the function it will see the global varible."
   ]
  },
  {
   "cell_type": "code",
   "execution_count": 32,
   "id": "f3f10212",
   "metadata": {},
   "outputs": [
    {
     "name": "stdout",
     "output_type": "stream",
     "text": [
      "2\n",
      "5\n"
     ]
    }
   ],
   "source": [
    "def f(y):\n",
    "    x=1\n",
    "    x+=1\n",
    "    print(x)\n",
    "x=5\n",
    "f(x)\n",
    "print(x)"
   ]
  },
  {
   "cell_type": "markdown",
   "id": "f824cb51",
   "metadata": {},
   "source": [
    "Here we can provide variable name the same x for both global and local variable but it's scope is remains as per the programs and the fumction.\n",
    "- x outside the function is for global\n",
    "- x inside the function for local "
   ]
  },
  {
   "cell_type": "code",
   "execution_count": 34,
   "id": "6662509b",
   "metadata": {},
   "outputs": [
    {
     "ename": "UnboundLocalError",
     "evalue": "local variable 'x' referenced before assignment",
     "output_type": "error",
     "traceback": [
      "\u001b[1;31m---------------------------------------------------------------------------\u001b[0m",
      "\u001b[1;31mUnboundLocalError\u001b[0m                         Traceback (most recent call last)",
      "\u001b[1;32m<ipython-input-34-b92bb55f6b0d>\u001b[0m in \u001b[0;36m<module>\u001b[1;34m\u001b[0m\n\u001b[0;32m      3\u001b[0m \u001b[1;33m\u001b[0m\u001b[0m\n\u001b[0;32m      4\u001b[0m \u001b[0mx\u001b[0m\u001b[1;33m=\u001b[0m\u001b[1;36m5\u001b[0m\u001b[1;33m\u001b[0m\u001b[1;33m\u001b[0m\u001b[0m\n\u001b[1;32m----> 5\u001b[1;33m \u001b[0mh\u001b[0m\u001b[1;33m(\u001b[0m\u001b[0mx\u001b[0m\u001b[1;33m)\u001b[0m\u001b[1;33m\u001b[0m\u001b[1;33m\u001b[0m\u001b[0m\n\u001b[0m\u001b[0;32m      6\u001b[0m \u001b[0mprint\u001b[0m\u001b[1;33m(\u001b[0m\u001b[0mx\u001b[0m\u001b[1;33m)\u001b[0m\u001b[1;33m\u001b[0m\u001b[1;33m\u001b[0m\u001b[0m\n",
      "\u001b[1;32m<ipython-input-34-b92bb55f6b0d>\u001b[0m in \u001b[0;36mh\u001b[1;34m(y)\u001b[0m\n\u001b[0;32m      1\u001b[0m \u001b[1;32mdef\u001b[0m \u001b[0mh\u001b[0m\u001b[1;33m(\u001b[0m\u001b[0my\u001b[0m\u001b[1;33m)\u001b[0m\u001b[1;33m:\u001b[0m\u001b[1;33m\u001b[0m\u001b[1;33m\u001b[0m\u001b[0m\n\u001b[1;32m----> 2\u001b[1;33m     \u001b[0mx\u001b[0m\u001b[1;33m+=\u001b[0m\u001b[1;36m1\u001b[0m\u001b[1;33m\u001b[0m\u001b[1;33m\u001b[0m\u001b[0m\n\u001b[0m\u001b[0;32m      3\u001b[0m \u001b[1;33m\u001b[0m\u001b[0m\n\u001b[0;32m      4\u001b[0m \u001b[0mx\u001b[0m\u001b[1;33m=\u001b[0m\u001b[1;36m5\u001b[0m\u001b[1;33m\u001b[0m\u001b[1;33m\u001b[0m\u001b[0m\n\u001b[0;32m      5\u001b[0m \u001b[0mh\u001b[0m\u001b[1;33m(\u001b[0m\u001b[0mx\u001b[0m\u001b[1;33m)\u001b[0m\u001b[1;33m\u001b[0m\u001b[1;33m\u001b[0m\u001b[0m\n",
      "\u001b[1;31mUnboundLocalError\u001b[0m: local variable 'x' referenced before assignment"
     ]
    }
   ],
   "source": [
    "def h(y):\n",
    "    x+=1\n",
    "    \n",
    "x=5\n",
    "h(x)\n",
    "print(x)"
   ]
  },
  {
   "cell_type": "markdown",
   "id": "476d2579",
   "metadata": {},
   "source": [
    "Above function we can't change the global variable inside the function we can use the global varibale. "
   ]
  },
  {
   "cell_type": "code",
   "execution_count": 35,
   "id": "65ef5220",
   "metadata": {},
   "outputs": [],
   "source": [
    "# we can change the global variable inside the function.\n",
    "# using global \n",
    "# but it is not recomended "
   ]
  },
  {
   "cell_type": "code",
   "execution_count": 36,
   "id": "c0a7c0a3",
   "metadata": {},
   "outputs": [
    {
     "name": "stdout",
     "output_type": "stream",
     "text": [
      "6\n"
     ]
    }
   ],
   "source": [
    "def h(y):\n",
    "    global x\n",
    "    x+=1\n",
    "    \n",
    "x=5\n",
    "h(x)\n",
    "print(x)"
   ]
  },
  {
   "cell_type": "markdown",
   "id": "9964068e",
   "metadata": {},
   "source": [
    "#### Nested Function"
   ]
  },
  {
   "cell_type": "code",
   "execution_count": 43,
   "id": "f5bb8d7b",
   "metadata": {},
   "outputs": [],
   "source": [
    "def f():\n",
    "    def g():\n",
    "        print(\"inside function g\")\n",
    "    g()\n",
    "    print(\"inside function f\")"
   ]
  },
  {
   "cell_type": "code",
   "execution_count": 44,
   "id": "5d5642ee",
   "metadata": {},
   "outputs": [
    {
     "name": "stdout",
     "output_type": "stream",
     "text": [
      "inside function g\n",
      "inside function f\n"
     ]
    }
   ],
   "source": [
    "f()"
   ]
  },
  {
   "cell_type": "code",
   "execution_count": 45,
   "id": "653355c9",
   "metadata": {},
   "outputs": [
    {
     "ename": "TypeError",
     "evalue": "g() missing 1 required positional argument: 'y'",
     "output_type": "error",
     "traceback": [
      "\u001b[1;31m---------------------------------------------------------------------------\u001b[0m",
      "\u001b[1;31mTypeError\u001b[0m                                 Traceback (most recent call last)",
      "\u001b[1;32m<ipython-input-45-5fd69ddb5074>\u001b[0m in \u001b[0;36m<module>\u001b[1;34m\u001b[0m\n\u001b[1;32m----> 1\u001b[1;33m \u001b[0mg\u001b[0m\u001b[1;33m(\u001b[0m\u001b[1;33m)\u001b[0m\u001b[1;33m\u001b[0m\u001b[1;33m\u001b[0m\u001b[0m\n\u001b[0m",
      "\u001b[1;31mTypeError\u001b[0m: g() missing 1 required positional argument: 'y'"
     ]
    }
   ],
   "source": [
    "g()\n",
    "# Error will comes "
   ]
  },
  {
   "cell_type": "code",
   "execution_count": 46,
   "id": "a9ad110f",
   "metadata": {},
   "outputs": [],
   "source": [
    "def f():\n",
    "    def g():\n",
    "        print(\"inside function g\")\n",
    "        f() # again call the function \n",
    "    g()\n",
    "    print(\"inside function f\")"
   ]
  },
  {
   "cell_type": "code",
   "execution_count": null,
   "id": "87a71fba",
   "metadata": {},
   "outputs": [],
   "source": [
    "f() # it is a infinte loop "
   ]
  },
  {
   "cell_type": "markdown",
   "id": "c260946a",
   "metadata": {},
   "source": [
    "#### function are the first class citizens "
   ]
  },
  {
   "cell_type": "code",
   "execution_count": 11,
   "id": "cfb42ec0",
   "metadata": {},
   "outputs": [
    {
     "data": {
      "text/plain": [
       "2112392614096"
      ]
     },
     "execution_count": 11,
     "metadata": {},
     "output_type": "execute_result"
    }
   ],
   "source": [
    "# type and id \n",
    "def square(num):\n",
    "    return num**2\n",
    "\n",
    "type(square)\n",
    "id(square)"
   ]
  },
  {
   "cell_type": "code",
   "execution_count": 12,
   "id": "edbcc92b",
   "metadata": {},
   "outputs": [
    {
     "data": {
      "text/plain": [
       "9"
      ]
     },
     "execution_count": 12,
     "metadata": {},
     "output_type": "execute_result"
    }
   ],
   "source": [
    "# reassign\n",
    "x=square\n",
    "id(x)\n",
    "x(3)"
   ]
  },
  {
   "cell_type": "code",
   "execution_count": 7,
   "id": "79afd0c6",
   "metadata": {},
   "outputs": [],
   "source": [
    "#deleting a function\n",
    "del square\n"
   ]
  },
  {
   "cell_type": "code",
   "execution_count": 9,
   "id": "63fccb2b",
   "metadata": {},
   "outputs": [
    {
     "data": {
      "text/plain": [
       "9"
      ]
     },
     "execution_count": 9,
     "metadata": {},
     "output_type": "execute_result"
    }
   ],
   "source": [
    "x(3)\n"
   ]
  },
  {
   "cell_type": "raw",
   "id": "8bc0825a",
   "metadata": {},
   "source": []
  },
  {
   "cell_type": "code",
   "execution_count": 10,
   "id": "764710d1",
   "metadata": {},
   "outputs": [
    {
     "ename": "NameError",
     "evalue": "name 'square' is not defined",
     "output_type": "error",
     "traceback": [
      "\u001b[1;31m---------------------------------------------------------------------------\u001b[0m",
      "\u001b[1;31mNameError\u001b[0m                                 Traceback (most recent call last)",
      "\u001b[1;32m<ipython-input-10-67e8141f4182>\u001b[0m in \u001b[0;36m<module>\u001b[1;34m\u001b[0m\n\u001b[1;32m----> 1\u001b[1;33m \u001b[0msquare\u001b[0m\u001b[1;33m(\u001b[0m\u001b[1;33m)\u001b[0m\u001b[1;33m\u001b[0m\u001b[1;33m\u001b[0m\u001b[0m\n\u001b[0m",
      "\u001b[1;31mNameError\u001b[0m: name 'square' is not defined"
     ]
    }
   ],
   "source": [
    "square()\n",
    "# we deleted the function"
   ]
  },
  {
   "cell_type": "code",
   "execution_count": 15,
   "id": "48238d88",
   "metadata": {},
   "outputs": [
    {
     "data": {
      "text/plain": [
       "9"
      ]
     },
     "execution_count": 15,
     "metadata": {},
     "output_type": "execute_result"
    }
   ],
   "source": [
    "#  sorting\n",
    "L=[1,2,3,4,square]\n",
    "L\n",
    "L[-1](3)"
   ]
  },
  {
   "cell_type": "code",
   "execution_count": 17,
   "id": "2f6da7e7",
   "metadata": {},
   "outputs": [
    {
     "data": {
      "text/plain": [
       "{<function __main__.square(num)>}"
      ]
     },
     "execution_count": 17,
     "metadata": {},
     "output_type": "execute_result"
    }
   ],
   "source": [
    "# in sets we can't store the mutable datatype\n",
    "s={square}\n",
    "s"
   ]
  },
  {
   "cell_type": "code",
   "execution_count": 18,
   "id": "2ded1130",
   "metadata": {},
   "outputs": [],
   "source": [
    "# the function is immutable "
   ]
  },
  {
   "cell_type": "code",
   "execution_count": 19,
   "id": "6f3b7962",
   "metadata": {},
   "outputs": [],
   "source": [
    "# returining the function "
   ]
  },
  {
   "cell_type": "code",
   "execution_count": 20,
   "id": "07890424",
   "metadata": {},
   "outputs": [
    {
     "name": "stdout",
     "output_type": "stream",
     "text": [
      "7\n"
     ]
    }
   ],
   "source": [
    "def f():\n",
    "    def x(a,b):\n",
    "        return a+b\n",
    "    return x\n",
    "val = f()(3,4)\n",
    "print(val)"
   ]
  },
  {
   "cell_type": "code",
   "execution_count": 21,
   "id": "0c47efab",
   "metadata": {},
   "outputs": [],
   "source": [
    "# function as arguments \n"
   ]
  },
  {
   "cell_type": "code",
   "execution_count": 24,
   "id": "5c1af92c",
   "metadata": {},
   "outputs": [
    {
     "name": "stdout",
     "output_type": "stream",
     "text": [
      "inside func_c\n",
      "inside func_a\n",
      "None\n"
     ]
    }
   ],
   "source": [
    "def func_a():\n",
    "    print(\"inside func_a\")\n",
    "def func_b(z):\n",
    "    print(\"inside func_c\")\n",
    "    return z()\n",
    "print(func_b(func_a))"
   ]
  },
  {
   "cell_type": "markdown",
   "id": "6f0fdc3f",
   "metadata": {},
   "source": [
    "#### Benefits of using a Functions \n",
    "- Code Modualrity\n",
    "- Code Readiablity\n",
    "- Code Resuabality"
   ]
  },
  {
   "cell_type": "markdown",
   "id": "1db34381",
   "metadata": {},
   "source": [
    "#### Lambda Function "
   ]
  },
  {
   "cell_type": "markdown",
   "id": "11ce5ef5",
   "metadata": {},
   "source": [
    "lambda function is a small anonymous function.\n",
    "A lambda Function can take any number of arguments, but can only have one one expression."
   ]
  },
  {
   "cell_type": "code",
   "execution_count": 26,
   "id": "508526ad",
   "metadata": {},
   "outputs": [],
   "source": [
    "a= lambda x:x**2"
   ]
  },
  {
   "cell_type": "code",
   "execution_count": 27,
   "id": "6f193c96",
   "metadata": {},
   "outputs": [
    {
     "data": {
      "text/plain": [
       "4"
      ]
     },
     "execution_count": 27,
     "metadata": {},
     "output_type": "execute_result"
    }
   ],
   "source": [
    "a(2)"
   ]
  },
  {
   "cell_type": "code",
   "execution_count": 28,
   "id": "b9158b47",
   "metadata": {},
   "outputs": [
    {
     "data": {
      "text/plain": [
       "5"
      ]
     },
     "execution_count": 28,
     "metadata": {},
     "output_type": "execute_result"
    }
   ],
   "source": [
    "a= lambda x,y:x+y\n",
    "a(2,3)"
   ]
  },
  {
   "cell_type": "markdown",
   "id": "500581eb",
   "metadata": {},
   "source": [
    "#### Diff Between lambda vs Normal function\n",
    "- No name\n",
    "- lambda has no return value(infact,return a function)\n",
    "- lambda is written in one line \n",
    "- not reusable \n",
    "\n",
    "Then why use lambda function.\n",
    "**They are used with HOF**"
   ]
  },
  {
   "cell_type": "code",
   "execution_count": 30,
   "id": "3ff876ba",
   "metadata": {},
   "outputs": [
    {
     "data": {
      "text/plain": [
       "False"
      ]
     },
     "execution_count": 30,
     "metadata": {},
     "output_type": "execute_result"
    }
   ],
   "source": [
    "# check if a string has \"a\"\n",
    "a=lambda s:\"a\" in s\n",
    "a(\"hello\")"
   ]
  },
  {
   "cell_type": "code",
   "execution_count": 31,
   "id": "a0d042ee",
   "metadata": {},
   "outputs": [
    {
     "data": {
      "text/plain": [
       "'even'"
      ]
     },
     "execution_count": 31,
     "metadata": {},
     "output_type": "execute_result"
    }
   ],
   "source": [
    "# odd and even\n",
    "a= lambda x:\"even\" if x%2==0 else \"odd\"\n",
    "a(6)"
   ]
  },
  {
   "cell_type": "markdown",
   "id": "0f4f1441",
   "metadata": {},
   "source": [
    "#### Higher Order Function "
   ]
  },
  {
   "cell_type": "code",
   "execution_count": 33,
   "id": "18618cf1",
   "metadata": {},
   "outputs": [],
   "source": [
    "# is a function which gives a function in return \n",
    "# or a function as a input"
   ]
  },
  {
   "cell_type": "code",
   "execution_count": 34,
   "id": "a8ff888e",
   "metadata": {},
   "outputs": [
    {
     "name": "stdout",
     "output_type": "stream",
     "text": [
      "[1, 4, 9, 16, 25]\n"
     ]
    }
   ],
   "source": [
    "def square(x):\n",
    "    return x**2\n",
    "\n",
    "# HOF\n",
    "def transform(f,l):\n",
    "    output=[]\n",
    "    for i in L:\n",
    "        output.append(f(i))\n",
    "        \n",
    "    print(output)\n",
    "L=[1,2,3,4,5]\n",
    "transform(square,L)\n"
   ]
  },
  {
   "cell_type": "code",
   "execution_count": 35,
   "id": "a82800cb",
   "metadata": {},
   "outputs": [
    {
     "name": "stdout",
     "output_type": "stream",
     "text": [
      "[1, 4, 9, 16, 25]\n"
     ]
    }
   ],
   "source": [
    "def square(x):\n",
    "    return x**2\n",
    "\n",
    "# HOF\n",
    "def transform(f,l):\n",
    "    output=[]\n",
    "    for i in L:\n",
    "        output.append(f(i))\n",
    "        \n",
    "    print(output)\n",
    "L=[1,2,3,4,5]\n",
    "transform(lambda x:x**2,L)"
   ]
  },
  {
   "cell_type": "markdown",
   "id": "3ed74eb3",
   "metadata": {},
   "source": [
    "#### Map "
   ]
  },
  {
   "cell_type": "code",
   "execution_count": 37,
   "id": "dfa3abbc",
   "metadata": {},
   "outputs": [
    {
     "data": {
      "text/plain": [
       "[1, 4, 9, 16, 25]"
      ]
     },
     "execution_count": 37,
     "metadata": {},
     "output_type": "execute_result"
    }
   ],
   "source": [
    "list(map(lambda x:x**2,[1,2,3,4,5]))"
   ]
  },
  {
   "cell_type": "code",
   "execution_count": 38,
   "id": "47dbad05",
   "metadata": {},
   "outputs": [
    {
     "data": {
      "text/plain": [
       "['odd', 'even', 'odd', 'even', 'odd']"
      ]
     },
     "execution_count": 38,
     "metadata": {},
     "output_type": "execute_result"
    }
   ],
   "source": [
    "# odd/even labelling of the list item \n",
    "L=[1,2,3,4,5]\n",
    "list(map(lambda x:\"even\" if x%2==0 else \"odd\",L))"
   ]
  },
  {
   "cell_type": "code",
   "execution_count": 39,
   "id": "3fc47735",
   "metadata": {},
   "outputs": [],
   "source": [
    "# dictionary \n",
    "user= [{\"name\":\"Rahul\",\"age\":34,\"gender\":\"male\"},{\"name\":\"kunal\",\"age\":45,\"gender\":\"male\"},{\"name\":\"ankita\",\"age\":23,\"gender\":\"female\"}]"
   ]
  },
  {
   "cell_type": "code",
   "execution_count": 40,
   "id": "4011dbd6",
   "metadata": {},
   "outputs": [
    {
     "data": {
      "text/plain": [
       "['male', 'male', 'female']"
      ]
     },
     "execution_count": 40,
     "metadata": {},
     "output_type": "execute_result"
    }
   ],
   "source": [
    "list(map(lambda user:user[\"gender\"],user))"
   ]
  },
  {
   "cell_type": "markdown",
   "id": "87a691f8",
   "metadata": {},
   "source": [
    "#### Filter "
   ]
  },
  {
   "cell_type": "code",
   "execution_count": 42,
   "id": "296b4540",
   "metadata": {},
   "outputs": [
    {
     "data": {
      "text/plain": [
       "[6, 7]"
      ]
     },
     "execution_count": 42,
     "metadata": {},
     "output_type": "execute_result"
    }
   ],
   "source": [
    "L = [3,4,5,6,7]\n",
    "list(filter(lambda x:x>5,L))"
   ]
  },
  {
   "cell_type": "code",
   "execution_count": 44,
   "id": "cc9ba682",
   "metadata": {},
   "outputs": [
    {
     "data": {
      "text/plain": [
       "['apple']"
      ]
     },
     "execution_count": 44,
     "metadata": {},
     "output_type": "execute_result"
    }
   ],
   "source": [
    "# fetch fruits with \"a\"\n",
    "fruits=[\"apple\",\"gyava\",\"chery\"]\n",
    "list(filter(lambda x: x.startswith(\"a\"),fruits))\n"
   ]
  },
  {
   "cell_type": "markdown",
   "id": "abbb8fd3",
   "metadata": {},
   "source": [
    "#### Reduce "
   ]
  },
  {
   "cell_type": "code",
   "execution_count": 45,
   "id": "0260c7aa",
   "metadata": {},
   "outputs": [
    {
     "data": {
      "text/plain": [
       "15"
      ]
     },
     "execution_count": 45,
     "metadata": {},
     "output_type": "execute_result"
    }
   ],
   "source": [
    "# sum of all the items \n",
    "import functools\n",
    "functools.reduce(lambda x,y:x+y,[1,2,3,4,5])"
   ]
  },
  {
   "cell_type": "code",
   "execution_count": 48,
   "id": "2ea2fb2a",
   "metadata": {},
   "outputs": [
    {
     "data": {
      "text/plain": [
       "1"
      ]
     },
     "execution_count": 48,
     "metadata": {},
     "output_type": "execute_result"
    }
   ],
   "source": [
    "# find min \n",
    "functools.reduce(lambda x,y:x if x<y else y,[23,11,45,10,1])"
   ]
  },
  {
   "cell_type": "code",
   "execution_count": null,
   "id": "d3b1532b",
   "metadata": {},
   "outputs": [],
   "source": []
  }
 ],
 "metadata": {
  "kernelspec": {
   "display_name": "Python 3",
   "language": "python",
   "name": "python3"
  },
  "language_info": {
   "codemirror_mode": {
    "name": "ipython",
    "version": 3
   },
   "file_extension": ".py",
   "mimetype": "text/x-python",
   "name": "python",
   "nbconvert_exporter": "python",
   "pygments_lexer": "ipython3",
   "version": "3.8.8"
  }
 },
 "nbformat": 4,
 "nbformat_minor": 5
}
