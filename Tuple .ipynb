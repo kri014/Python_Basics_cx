{
 "cells": [
  {
   "cell_type": "markdown",
   "id": "4d766f63",
   "metadata": {},
   "source": [
    "### Tuples \n",
    "A Tuple in python is similar to a list. The difference the two is that we cannot change the elements of a tuple once it is assigned whereas we can change the elements of a list. \n",
    "\n",
    "\n",
    "In Short, a tuple is an **immutable list**. A tuple can not be changed in any way once it is created.\n",
    "\n",
    "Characterstics\n",
    "- Ordered\n",
    "- Unchangeble\n",
    "- Allow Duplicate"
   ]
  },
  {
   "cell_type": "markdown",
   "id": "908123ed",
   "metadata": {},
   "source": [
    "#### Plan to study the tuples\n",
    "- Creating a Tuple\n",
    "- Accessing items\n",
    "- Editing items \n",
    "- adding items\n",
    "- Deleting items\n",
    "- Operations on tuples \n",
    "- Tuples functions"
   ]
  },
  {
   "cell_type": "markdown",
   "id": "f6f1dd27",
   "metadata": {},
   "source": [
    "#### Creating tuples "
   ]
  },
  {
   "cell_type": "code",
   "execution_count": 5,
   "id": "38fef76b",
   "metadata": {},
   "outputs": [
    {
     "name": "stdout",
     "output_type": "stream",
     "text": [
      "<class 'int'>\n",
      "<class 'str'>\n"
     ]
    }
   ],
   "source": [
    "# empty\n",
    "t1=()\n",
    "# creating a tuple with a single item \n",
    "t2=(2)\n",
    "print(type(t2))\n",
    "t3 = (\"hello\")\n",
    "print(type(t3))"
   ]
  },
  {
   "cell_type": "code",
   "execution_count": 2,
   "id": "ef7ae44e",
   "metadata": {},
   "outputs": [
    {
     "data": {
      "text/plain": [
       "()"
      ]
     },
     "execution_count": 2,
     "metadata": {},
     "output_type": "execute_result"
    }
   ],
   "source": [
    "t1"
   ]
  },
  {
   "cell_type": "code",
   "execution_count": 6,
   "id": "b2a2b60c",
   "metadata": {},
   "outputs": [
    {
     "name": "stdout",
     "output_type": "stream",
     "text": [
      "<class 'tuple'>\n",
      "<class 'tuple'>\n"
     ]
    }
   ],
   "source": [
    "# creating a tuple with a single item -> adding one comma on the item \n",
    "t2=(2,)\n",
    "print(type(t2))\n",
    "t3 = (\"hello\",)\n",
    "print(type(t3))"
   ]
  },
  {
   "cell_type": "code",
   "execution_count": 7,
   "id": "3ba7c231",
   "metadata": {},
   "outputs": [],
   "source": [
    "# homo/hetro\n",
    "t3 = (1,2,3)\n",
    "t4 = (1,2,3,\"hello\")"
   ]
  },
  {
   "cell_type": "code",
   "execution_count": 8,
   "id": "5f91e605",
   "metadata": {},
   "outputs": [
    {
     "name": "stdout",
     "output_type": "stream",
     "text": [
      "(1, 2, 3) (1, 2, 3, 'hello')\n"
     ]
    }
   ],
   "source": [
    "print(t3,t4)"
   ]
  },
  {
   "cell_type": "code",
   "execution_count": 10,
   "id": "cf11c6a1",
   "metadata": {},
   "outputs": [
    {
     "name": "stdout",
     "output_type": "stream",
     "text": [
      "(1, 2, 3, (4, 5))\n"
     ]
    }
   ],
   "source": [
    "# tuple \n",
    "t5 = (1,2,3,(4,5))\n",
    "print(t5)"
   ]
  },
  {
   "cell_type": "code",
   "execution_count": 12,
   "id": "f391733e",
   "metadata": {},
   "outputs": [
    {
     "name": "stdout",
     "output_type": "stream",
     "text": [
      "<class 'tuple'>\n"
     ]
    }
   ],
   "source": [
    "# ueing type conversion \n",
    "t6 = tuple([1,2,3])\n",
    "print(type(t6))"
   ]
  },
  {
   "cell_type": "markdown",
   "id": "cef6051f",
   "metadata": {},
   "source": [
    "#### Accessing Items \n",
    "- Indexing \n",
    "- Slicing"
   ]
  },
  {
   "cell_type": "code",
   "execution_count": 14,
   "id": "a8460a52",
   "metadata": {},
   "outputs": [
    {
     "data": {
      "text/plain": [
       "1"
      ]
     },
     "execution_count": 14,
     "metadata": {},
     "output_type": "execute_result"
    }
   ],
   "source": [
    "t3[0]"
   ]
  },
  {
   "cell_type": "code",
   "execution_count": 15,
   "id": "5a429c05",
   "metadata": {},
   "outputs": [
    {
     "data": {
      "text/plain": [
       "3"
      ]
     },
     "execution_count": 15,
     "metadata": {},
     "output_type": "execute_result"
    }
   ],
   "source": [
    "t3[-1]"
   ]
  },
  {
   "cell_type": "code",
   "execution_count": 17,
   "id": "47cc6edb",
   "metadata": {},
   "outputs": [
    {
     "name": "stdout",
     "output_type": "stream",
     "text": [
      "(3, 2, 1)\n"
     ]
    }
   ],
   "source": [
    "print(t3[::-1])"
   ]
  },
  {
   "cell_type": "markdown",
   "id": "ae674a20",
   "metadata": {},
   "source": [
    "#### Editing items\n",
    "Tuples are immutable so can't edit the items in the tuples."
   ]
  },
  {
   "cell_type": "code",
   "execution_count": 20,
   "id": "79d877a5",
   "metadata": {},
   "outputs": [
    {
     "name": "stdout",
     "output_type": "stream",
     "text": [
      "(1, 2, 3)\n"
     ]
    },
    {
     "ename": "TypeError",
     "evalue": "'tuple' object does not support item assignment",
     "output_type": "error",
     "traceback": [
      "\u001b[1;31m---------------------------------------------------------------------------\u001b[0m",
      "\u001b[1;31mTypeError\u001b[0m                                 Traceback (most recent call last)",
      "\u001b[1;32m<ipython-input-20-f6b50d1ee7eb>\u001b[0m in \u001b[0;36m<module>\u001b[1;34m\u001b[0m\n\u001b[0;32m      1\u001b[0m \u001b[0mprint\u001b[0m\u001b[1;33m(\u001b[0m\u001b[0mt3\u001b[0m\u001b[1;33m)\u001b[0m\u001b[1;33m\u001b[0m\u001b[1;33m\u001b[0m\u001b[0m\n\u001b[1;32m----> 2\u001b[1;33m \u001b[0mt3\u001b[0m\u001b[1;33m[\u001b[0m\u001b[1;36m0\u001b[0m\u001b[1;33m]\u001b[0m\u001b[1;33m=\u001b[0m\u001b[1;36m100\u001b[0m\u001b[1;33m\u001b[0m\u001b[1;33m\u001b[0m\u001b[0m\n\u001b[0m\u001b[0;32m      3\u001b[0m \u001b[1;31m# immutables just like strings\u001b[0m\u001b[1;33m\u001b[0m\u001b[1;33m\u001b[0m\u001b[1;33m\u001b[0m\u001b[0m\n",
      "\u001b[1;31mTypeError\u001b[0m: 'tuple' object does not support item assignment"
     ]
    }
   ],
   "source": [
    "print(t3)\n",
    "t3[0]=100\n",
    "# immutables just like strings "
   ]
  },
  {
   "cell_type": "markdown",
   "id": "0ddb82a5",
   "metadata": {},
   "source": [
    "#### Adding items \n",
    "Not possible "
   ]
  },
  {
   "cell_type": "code",
   "execution_count": 21,
   "id": "cd1d2d4d",
   "metadata": {},
   "outputs": [
    {
     "name": "stdout",
     "output_type": "stream",
     "text": [
      "(1, 2, 3)\n"
     ]
    }
   ],
   "source": [
    "print(t3)\n"
   ]
  },
  {
   "cell_type": "markdown",
   "id": "dc91c4a9",
   "metadata": {},
   "source": [
    "#### Deleting items \n",
    "- we can delete the whole tuple.\n",
    "- we can't delete the portion of the tuple."
   ]
  },
  {
   "cell_type": "code",
   "execution_count": 22,
   "id": "0750d580",
   "metadata": {},
   "outputs": [
    {
     "name": "stdout",
     "output_type": "stream",
     "text": [
      "(1, 2, 3)\n"
     ]
    }
   ],
   "source": [
    "print(t3)"
   ]
  },
  {
   "cell_type": "code",
   "execution_count": 23,
   "id": "a40bb100",
   "metadata": {},
   "outputs": [],
   "source": [
    "del t3"
   ]
  },
  {
   "cell_type": "code",
   "execution_count": 24,
   "id": "12d69498",
   "metadata": {},
   "outputs": [
    {
     "ename": "NameError",
     "evalue": "name 't3' is not defined",
     "output_type": "error",
     "traceback": [
      "\u001b[1;31m---------------------------------------------------------------------------\u001b[0m",
      "\u001b[1;31mNameError\u001b[0m                                 Traceback (most recent call last)",
      "\u001b[1;32m<ipython-input-24-d6488ea0923b>\u001b[0m in \u001b[0;36m<module>\u001b[1;34m\u001b[0m\n\u001b[1;32m----> 1\u001b[1;33m \u001b[0mprint\u001b[0m\u001b[1;33m(\u001b[0m\u001b[0mt3\u001b[0m\u001b[1;33m)\u001b[0m\u001b[1;33m\u001b[0m\u001b[1;33m\u001b[0m\u001b[0m\n\u001b[0m",
      "\u001b[1;31mNameError\u001b[0m: name 't3' is not defined"
     ]
    }
   ],
   "source": [
    "print(t3)"
   ]
  },
  {
   "cell_type": "code",
   "execution_count": 25,
   "id": "a677a199",
   "metadata": {},
   "outputs": [
    {
     "data": {
      "text/plain": [
       "(1, 2, 3, (4, 5))"
      ]
     },
     "execution_count": 25,
     "metadata": {},
     "output_type": "execute_result"
    }
   ],
   "source": [
    "t5"
   ]
  },
  {
   "cell_type": "code",
   "execution_count": 26,
   "id": "c81cb42e",
   "metadata": {},
   "outputs": [
    {
     "ename": "TypeError",
     "evalue": "'tuple' object doesn't support item deletion",
     "output_type": "error",
     "traceback": [
      "\u001b[1;31m---------------------------------------------------------------------------\u001b[0m",
      "\u001b[1;31mTypeError\u001b[0m                                 Traceback (most recent call last)",
      "\u001b[1;32m<ipython-input-26-3958c05fbb03>\u001b[0m in \u001b[0;36m<module>\u001b[1;34m\u001b[0m\n\u001b[1;32m----> 1\u001b[1;33m \u001b[1;32mdel\u001b[0m \u001b[0mt5\u001b[0m\u001b[1;33m[\u001b[0m\u001b[1;33m-\u001b[0m\u001b[1;36m1\u001b[0m\u001b[1;33m]\u001b[0m\u001b[1;33m\u001b[0m\u001b[1;33m\u001b[0m\u001b[0m\n\u001b[0m",
      "\u001b[1;31mTypeError\u001b[0m: 'tuple' object doesn't support item deletion"
     ]
    }
   ],
   "source": [
    "del t5[-1] # not possible "
   ]
  },
  {
   "cell_type": "code",
   "execution_count": 27,
   "id": "aef75128",
   "metadata": {},
   "outputs": [
    {
     "data": {
      "text/plain": [
       "(5, 4, 3)"
      ]
     },
     "execution_count": 27,
     "metadata": {},
     "output_type": "execute_result"
    }
   ],
   "source": [
    "t=(1,2,3,4,5)\n",
    "t[-1:-4:-1]"
   ]
  },
  {
   "cell_type": "markdown",
   "id": "5e3a0063",
   "metadata": {},
   "source": [
    "#### Operations on Tuples \n",
    "- '+' and *\n",
    "- membership\n",
    "- itreation "
   ]
  },
  {
   "cell_type": "code",
   "execution_count": 29,
   "id": "348f3c90",
   "metadata": {},
   "outputs": [
    {
     "name": "stdout",
     "output_type": "stream",
     "text": [
      "(1, 2, 3, 4, 5, 6, 7, 8)\n",
      "(1, 2, 3, 4, 1, 2, 3, 4)\n"
     ]
    }
   ],
   "source": [
    "# + and *\n",
    "t1=(1,2,3,4)\n",
    "t2=(5,6,7,8)\n",
    "print(t1+t2)\n",
    "print(t1*2)"
   ]
  },
  {
   "cell_type": "code",
   "execution_count": 30,
   "id": "ece4a55a",
   "metadata": {},
   "outputs": [
    {
     "data": {
      "text/plain": [
       "True"
      ]
     },
     "execution_count": 30,
     "metadata": {},
     "output_type": "execute_result"
    }
   ],
   "source": [
    "# membership \n",
    "1 in t1"
   ]
  },
  {
   "cell_type": "code",
   "execution_count": 31,
   "id": "3508dcf7",
   "metadata": {},
   "outputs": [
    {
     "name": "stdout",
     "output_type": "stream",
     "text": [
      "1\n",
      "2\n",
      "3\n",
      "4\n"
     ]
    }
   ],
   "source": [
    "#Iteration \n",
    "for i in t1:\n",
    "    print(i)"
   ]
  },
  {
   "cell_type": "markdown",
   "id": "e4c629d7",
   "metadata": {},
   "source": [
    "#### Tuple functions \n"
   ]
  },
  {
   "cell_type": "code",
   "execution_count": 35,
   "id": "ea95b2d2",
   "metadata": {},
   "outputs": [
    {
     "data": {
      "text/plain": [
       "[4, 3, 2, 1]"
      ]
     },
     "execution_count": 35,
     "metadata": {},
     "output_type": "execute_result"
    }
   ],
   "source": [
    "#len/min/max/sorted/sum\n",
    "t=(1,2,3,4)\n",
    "sum(t)\n",
    "min(t)\n",
    "sorted(t,reverse=True)"
   ]
  },
  {
   "cell_type": "code",
   "execution_count": 37,
   "id": "d802012c",
   "metadata": {},
   "outputs": [
    {
     "data": {
      "text/plain": [
       "0"
      ]
     },
     "execution_count": 37,
     "metadata": {},
     "output_type": "execute_result"
    }
   ],
   "source": [
    "#count\n",
    "t=(1,2,3,4,5,6)\n",
    "t.count(4)\n",
    "t.count(50)"
   ]
  },
  {
   "cell_type": "code",
   "execution_count": 38,
   "id": "ca7b31ad",
   "metadata": {},
   "outputs": [
    {
     "data": {
      "text/plain": [
       "4"
      ]
     },
     "execution_count": 38,
     "metadata": {},
     "output_type": "execute_result"
    }
   ],
   "source": [
    "#index\n",
    "t.index(5)"
   ]
  },
  {
   "cell_type": "code",
   "execution_count": 39,
   "id": "330450d3",
   "metadata": {},
   "outputs": [
    {
     "ename": "ValueError",
     "evalue": "tuple.index(x): x not in tuple",
     "output_type": "error",
     "traceback": [
      "\u001b[1;31m---------------------------------------------------------------------------\u001b[0m",
      "\u001b[1;31mValueError\u001b[0m                                Traceback (most recent call last)",
      "\u001b[1;32m<ipython-input-39-c8acb350e867>\u001b[0m in \u001b[0;36m<module>\u001b[1;34m\u001b[0m\n\u001b[1;32m----> 1\u001b[1;33m \u001b[0mt\u001b[0m\u001b[1;33m.\u001b[0m\u001b[0mindex\u001b[0m\u001b[1;33m(\u001b[0m\u001b[1;36m50\u001b[0m\u001b[1;33m)\u001b[0m\u001b[1;33m\u001b[0m\u001b[1;33m\u001b[0m\u001b[0m\n\u001b[0m",
      "\u001b[1;31mValueError\u001b[0m: tuple.index(x): x not in tuple"
     ]
    }
   ],
   "source": [
    "t.index(50)# 50 not in tuple "
   ]
  },
  {
   "cell_type": "markdown",
   "id": "04d3cc94",
   "metadata": {},
   "source": [
    "#### Difference between List and Tuples \n",
    "- Syntax - > []-> list,()->tuple\n",
    "- Mutability-> tuples are not \n",
    "- Speed -> tuples are faster \n",
    "- Memory -> tuples takes less space \n",
    "- Built in Functionality-> list having more builtin function \n",
    "- Error Prone-> list is more error porne \n",
    "- Usability"
   ]
  },
  {
   "cell_type": "code",
   "execution_count": 40,
   "id": "25bc637d",
   "metadata": {},
   "outputs": [
    {
     "name": "stdout",
     "output_type": "stream",
     "text": [
      "List time  1.7306954860687256\n",
      "Tuple time  1.6150240898132324\n"
     ]
    }
   ],
   "source": [
    "import time \n",
    "L = list(range(10000000))\n",
    "T = tuple(range(10000000))\n",
    "start = time.time()\n",
    "for i in L :\n",
    "    i*5\n",
    "print(\"List time \",time.time()-start)\n",
    "start = time.time()\n",
    "for i in T :\n",
    "    i*5\n",
    "print(\"Tuple time \",time.time()-start)\n",
    "# tuple takes less time "
   ]
  },
  {
   "cell_type": "code",
   "execution_count": 42,
   "id": "1260563c",
   "metadata": {},
   "outputs": [
    {
     "name": "stdout",
     "output_type": "stream",
     "text": [
      "list size 80000056\n",
      "Tuple size 80000040\n"
     ]
    }
   ],
   "source": [
    "import sys \n",
    "L = list(range(10000000))\n",
    "T = tuple(range(10000000))\n",
    "print(\"list size\",sys.getsizeof(L))\n",
    "print(\"Tuple size\",sys.getsizeof(T))"
   ]
  },
  {
   "cell_type": "code",
   "execution_count": 43,
   "id": "75573abc",
   "metadata": {},
   "outputs": [
    {
     "name": "stdout",
     "output_type": "stream",
     "text": [
      "[1, 2, 3, 4, 5]\n",
      "[1, 2, 3, 4, 5]\n"
     ]
    }
   ],
   "source": [
    "a=[1,2,3,4]\n",
    "b=a\n",
    "a.append(5)\n",
    "print(a)\n",
    "print(b)"
   ]
  },
  {
   "cell_type": "code",
   "execution_count": 44,
   "id": "7958f0e2",
   "metadata": {},
   "outputs": [
    {
     "name": "stdout",
     "output_type": "stream",
     "text": [
      "(1, 2, 3, 4)\n",
      "(1, 2, 3)\n"
     ]
    }
   ],
   "source": [
    "a=(1,2,3)\n",
    "b=a\n",
    "a=a+(4,)\n",
    "print(a)\n",
    "print(b)"
   ]
  },
  {
   "cell_type": "markdown",
   "id": "44aae091",
   "metadata": {},
   "source": [
    "#### Special Syntax\n"
   ]
  },
  {
   "cell_type": "code",
   "execution_count": 46,
   "id": "da0136c6",
   "metadata": {},
   "outputs": [
    {
     "name": "stdout",
     "output_type": "stream",
     "text": [
      "1 2 3\n"
     ]
    }
   ],
   "source": [
    "# tuple unpacking \n",
    "a,b,c=(1,2,3)\n",
    "print(a,b,c)"
   ]
  },
  {
   "cell_type": "code",
   "execution_count": 47,
   "id": "6eb451e2",
   "metadata": {},
   "outputs": [
    {
     "ename": "ValueError",
     "evalue": "too many values to unpack (expected 2)",
     "output_type": "error",
     "traceback": [
      "\u001b[1;31m---------------------------------------------------------------------------\u001b[0m",
      "\u001b[1;31mValueError\u001b[0m                                Traceback (most recent call last)",
      "\u001b[1;32m<ipython-input-47-413e8ed2157a>\u001b[0m in \u001b[0;36m<module>\u001b[1;34m\u001b[0m\n\u001b[1;32m----> 1\u001b[1;33m \u001b[0ma\u001b[0m\u001b[1;33m,\u001b[0m\u001b[0mb\u001b[0m\u001b[1;33m=\u001b[0m\u001b[1;33m(\u001b[0m\u001b[1;36m1\u001b[0m\u001b[1;33m,\u001b[0m\u001b[1;36m2\u001b[0m\u001b[1;33m,\u001b[0m\u001b[1;36m3\u001b[0m\u001b[1;33m)\u001b[0m\u001b[1;33m\u001b[0m\u001b[1;33m\u001b[0m\u001b[0m\n\u001b[0m\u001b[0;32m      2\u001b[0m \u001b[0mprint\u001b[0m\u001b[1;33m(\u001b[0m\u001b[0ma\u001b[0m\u001b[1;33m,\u001b[0m\u001b[0mb\u001b[0m\u001b[1;33m)\u001b[0m\u001b[1;33m\u001b[0m\u001b[1;33m\u001b[0m\u001b[0m\n",
      "\u001b[1;31mValueError\u001b[0m: too many values to unpack (expected 2)"
     ]
    }
   ],
   "source": [
    "a,b=(1,2,3)\n",
    "print(a,b)\n",
    "# make sure the items are same in both side "
   ]
  },
  {
   "cell_type": "code",
   "execution_count": 48,
   "id": "6335ad05",
   "metadata": {},
   "outputs": [
    {
     "name": "stdout",
     "output_type": "stream",
     "text": [
      "2 1\n"
     ]
    }
   ],
   "source": [
    "# value swapping \n",
    "a=1\n",
    "b=2\n",
    "a,b=b,a\n",
    "print(a,b)"
   ]
  },
  {
   "cell_type": "code",
   "execution_count": 49,
   "id": "eef6a8de",
   "metadata": {},
   "outputs": [
    {
     "name": "stdout",
     "output_type": "stream",
     "text": [
      "1 2 [3, 4, 5, 5]\n"
     ]
    }
   ],
   "source": [
    "a,b,*others=(1,2,3,4,5,5)\n",
    "print(a,b,others)"
   ]
  },
  {
   "cell_type": "code",
   "execution_count": 51,
   "id": "763ad59a",
   "metadata": {},
   "outputs": [
    {
     "data": {
      "text/plain": [
       "((1, 5), (2, 6), (3, 7), (4, 8))"
      ]
     },
     "execution_count": 51,
     "metadata": {},
     "output_type": "execute_result"
    }
   ],
   "source": [
    "# zipping tuples \n",
    "a=(1,2,3,4)\n",
    "b=(5,6,7,8)\n",
    "zip(a,b)\n",
    "tuple(zip(a,b))"
   ]
  },
  {
   "cell_type": "code",
   "execution_count": null,
   "id": "3f2f9a28",
   "metadata": {},
   "outputs": [],
   "source": []
  }
 ],
 "metadata": {
  "kernelspec": {
   "display_name": "Python 3",
   "language": "python",
   "name": "python3"
  },
  "language_info": {
   "codemirror_mode": {
    "name": "ipython",
    "version": 3
   },
   "file_extension": ".py",
   "mimetype": "text/x-python",
   "name": "python",
   "nbconvert_exporter": "python",
   "pygments_lexer": "ipython3",
   "version": "3.8.8"
  }
 },
 "nbformat": 4,
 "nbformat_minor": 5
}
